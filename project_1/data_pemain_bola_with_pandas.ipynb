{
 "cells": [
  {
   "cell_type": "code",
   "execution_count": 30,
   "metadata": {},
   "outputs": [],
   "source": [
    "import pandas as pd\n",
    "import matplotlib.pyplot as plt"
   ]
  },
  {
   "cell_type": "code",
   "execution_count": 34,
   "metadata": {},
   "outputs": [],
   "source": [
    "# Baca file CSV\n",
    "df = pd.read_csv(\"../sampledata/data_pemain_bola.csv\")"
   ]
  },
  {
   "cell_type": "code",
   "execution_count": 35,
   "metadata": {},
   "outputs": [
    {
     "name": "stdout",
     "output_type": "stream",
     "text": [
      "      nama  usia     posisi                tim  tinggi  berat  gol  assist\n",
      "0    David    28  penyerang            Arsenal     178     72    9       3\n",
      "1     John    23        bek          Liverpool     183     80    1       5\n",
      "2  Michael    30  gelandang            Chelsea     175     75    4       6\n",
      "3    James    25  penyerang          Tottenham     180     70   11       2\n",
      "4   Robert    27  gelandang  Manchester United     182     77    7       9\n"
     ]
    }
   ],
   "source": [
    "# Tampilkan 5 baris pertama dari dataframe, jika tampil semua pakai -> print(df)\n",
    "print(df.head())"
   ]
  },
  {
   "cell_type": "code",
   "execution_count": 36,
   "metadata": {},
   "outputs": [
    {
     "name": "stdout",
     "output_type": "stream",
     "text": [
      "Statistik Deskriptif:\n",
      "            usia      tinggi      berat        gol     assist\n",
      "count  20.000000   20.000000  20.000000  20.000000  20.000000\n",
      "mean   26.100000  180.250000  75.950000   3.700000   4.600000\n",
      "std     2.552604    4.766937   4.706938   3.599708   3.545197\n",
      "min    22.000000  173.000000  69.000000   0.000000   0.000000\n",
      "25%    24.000000  176.750000  72.000000   0.000000   2.000000\n",
      "50%    26.000000  180.000000  75.500000   3.500000   3.500000\n",
      "75%    28.000000  183.250000  79.250000   6.000000   7.000000\n",
      "max    30.000000  190.000000  85.000000  11.000000  12.000000\n"
     ]
    }
   ],
   "source": [
    "# Hitung statistik deskriptif untuk kolom usia, tinggi, berat, gol, dan assist\n",
    "print(\"Statistik Deskriptif:\")\n",
    "print(df[[\"usia\", \"tinggi\", \"berat\", \"gol\", \"assist\"]].describe())"
   ]
  },
  {
   "cell_type": "code",
   "execution_count": 37,
   "metadata": {},
   "outputs": [
    {
     "name": "stdout",
     "output_type": "stream",
     "text": [
      "Total gol dan assist per tim:\n",
      "                   gol  assist\n",
      "tim                           \n",
      "Arsenal              9       3\n",
      "Aston Villa          0       1\n",
      "Brighton             5       2\n",
      "Burnley              0       0\n",
      "Chelsea              4       6\n",
      "Crystal Palace       1       7\n",
      "Everton              2       6\n",
      "Fulham               6      11\n",
      "Leeds United         6       3\n",
      "Leicester City      10       7\n",
      "Liverpool            1       5\n",
      "Manchester City      0       0\n",
      "Manchester United    7       9\n",
      "Newcastle United     0       4\n",
      "Sheffield United     4       1\n",
      "Southampton          0       3\n",
      "Tottenham           16      14\n",
      "West Ham United      3       8\n",
      "Wolves               0       2\n"
     ]
    }
   ],
   "source": [
    "# Hitung total gol dan assist untuk setiap tim\n",
    "print(\"Total gol dan assist per tim:\")\n",
    "print(df.groupby(\"tim\")[[\"gol\", \"assist\"]].sum())"
   ]
  },
  {
   "cell_type": "code",
   "execution_count": 33,
   "metadata": {},
   "outputs": [
    {
     "name": "stdout",
     "output_type": "stream",
     "text": [
      "      nama  usia     posisi                tim  tinggi  berat  gol  assist\n",
      "3    James    25  penyerang          Tottenham     180     70   11       2\n",
      "10   Harry    26  penyerang     Leicester City     179     75   10       7\n",
      "0    David    28  penyerang            Arsenal     178     72    9       3\n",
      "4   Robert    27  gelandang  Manchester United     182     77    7       9\n",
      "16   Oscar    27  gelandang             Fulham     173     69    6      11\n"
     ]
    }
   ],
   "source": [
    "df_sorted = df.sort_values(\"gol\", ascending=False)\n",
    "print(df_sorted.head())"
   ]
  },
  {
   "cell_type": "code",
   "execution_count": 38,
   "metadata": {},
   "outputs": [
    {
     "data": {
      "image/png": "[encoded data removed]",
      "text/plain": [
       "<Figure size 640x480 with 1 Axes>"
      ]
     },
     "metadata": {},
     "output_type": "display_data"
    }
   ],
   "source": [
    "# Visualisasikan distribusi tinggi pemain menggunakan histogram\n",
    "plt.hist(df[\"tinggi\"], bins=10)\n",
    "plt.xlabel(\"Tinggi (cm)\")\n",
    "plt.ylabel(\"Frekuensi\")\n",
    "plt.title(\"Distribusi Tinggi Pemain Bola\")\n",
    "plt.show()"
   ]
  }
 ],
 "metadata": {
  "kernelspec": {
   "display_name": "Python 3",
   "language": "python",
   "name": "python3"
  },
  "language_info": {
   "codemirror_mode": {
    "name": "ipython",
    "version": 3
   },
   "file_extension": ".py",
   "mimetype": "text/x-python",
   "name": "python",
   "nbconvert_exporter": "python",
   "pygments_lexer": "ipython3",
   "version": "3.11.2"
  },
  "orig_nbformat": 4
 },
 "nbformat": 4,
 "nbformat_minor": 2
}
