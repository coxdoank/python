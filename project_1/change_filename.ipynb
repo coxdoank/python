{
 "cells": [
  {
   "cell_type": "code",
   "execution_count": 16,
   "metadata": {},
   "outputs": [
    {
     "data": {
      "text/plain": [
       "'../sampledata/data_pemain_bola_2023-03-06_16-39-19.csv'"
      ]
     },
     "execution_count": 16,
     "metadata": {},
     "output_type": "execute_result"
    }
   ],
   "source": [
    "import os\n",
    "import shutil\n",
    "import datetime\n",
    "\n",
    "# Mendefinisikan direktori file dan nama file yang akan diubah\n",
    "file_path = \"./sampledata/data_pemain_bola.csv\"\n",
    "\n",
    "# Menggunakan fungsi os.path.basename untuk mengambil nama file dari path\n",
    "file_name = os.path.basename(file_path)\n",
    "\n",
    "# Menggunakan os.path.splitext() untuk memisahkan nama file dan ekstensinya\n",
    "# name, extension = os.path.splitext(file_name)\n",
    "name, extension = os.path.splitext(file_name)\n",
    "\n",
    "# Membuat objek datetime untuk mendapatkan tanggal dan waktu saat ini\n",
    "now = datetime.datetime.now()\n",
    "\n",
    "# Membuat format string untuk nama file baru\n",
    "new_name = name + \"_\" + now.strftime(\"%Y-%m-%d_%H-%M-%S\") + \".csv\"\n",
    "\n",
    "# Mengubah nama file dengan menggunakan fungsi os.rename\n",
    "os.rename(file_path, new_name)\n",
    "\n",
    "# Memindahkan file baru ke direktori tujuan dengan menggunakan shutil.move\n",
    "destination_path = \"./sampledata/\"\n",
    "shutil.move(new_name, destination_path)\n"
   ]
  }
 ],
 "metadata": {
  "kernelspec": {
   "display_name": "Python 3",
   "language": "python",
   "name": "python3"
  },
  "language_info": {
   "codemirror_mode": {
    "name": "ipython",
    "version": 3
   },
   "file_extension": ".py",
   "mimetype": "text/x-python",
   "name": "python",
   "nbconvert_exporter": "python",
   "pygments_lexer": "ipython3",
   "version": "3.11.2"
  },
  "orig_nbformat": 4
 },
 "nbformat": 4,
 "nbformat_minor": 2
}
