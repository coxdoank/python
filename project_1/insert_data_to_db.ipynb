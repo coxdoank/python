{
 "cells": [
  {
   "cell_type": "code",
   "execution_count": 5,
   "metadata": {},
   "outputs": [],
   "source": [
    "import csv\n",
    "# import mysql.connector\n",
    "from connection_db_mysql import create_db_connection"
   ]
  },
  {
   "cell_type": "code",
   "execution_count": 6,
   "metadata": {},
   "outputs": [],
   "source": [
    "# Koneksi ke MySQL\n",
    "# mydb = mysql.connector.connect(\n",
    "#   host=\"localhost\",\n",
    "#   user=\"root\",\n",
    "#   password=\"\",\n",
    "#   database=\"tutorial\"\n",
    "# )\n",
    "\n",
    "mydb = create_db_connection(\"localhost\", \"root\", \"\", \"tutorial\")\n",
    "\n",
    "mycursor = mydb.cursor()"
   ]
  },
  {
   "cell_type": "code",
   "execution_count": 7,
   "metadata": {},
   "outputs": [
    {
     "name": "stdout",
     "output_type": "stream",
     "text": [
      "1 baris berhasil diinsert/update.\n"
     ]
    }
   ],
   "source": [
    "# membuka file csv\n",
    "with open('../sampledata/data_pemain_bola.csv', 'r') as file:\n",
    "    reader = csv.reader(file)\n",
    "    next(reader) # skip header row\n",
    "    for row in reader:\n",
    "        # cek apakah data sudah ada dalam tabel\n",
    "        mycursor.execute(\"SELECT COUNT(*) FROM pemain_bola WHERE nama = %s\", (row[0],))\n",
    "        result = mycursor.fetchone()\n",
    "        if result[0] > 0:\n",
    "            # jika sudah ada, lakukan update data\n",
    "            sql = \"UPDATE pemain_bola SET usia = %s, posisi = %s, tim = %s, tinggi = %s, berat = %s, gol = %s, assist = %s WHERE nama = %s\"\n",
    "            val = (row[1], row[2], row[3], row[4], row[5], row[6], row[7], row[0])\n",
    "            mycursor.execute(sql, val)\n",
    "        else:\n",
    "            # jika belum ada, lakukan insert data\n",
    "            sql = \"INSERT INTO pemain_bola (nama, usia, posisi, tim, tinggi, berat, gol, assist) VALUES (%s, %s, %s, %s, %s, %s, %s, %s)\"\n",
    "            val = (row[0], row[1], row[2], row[3], row[4], row[5], row[6], row[7])\n",
    "            mycursor.execute(sql, val)\n",
    "\n",
    "# commit perubahan ke database\n",
    "mydb.commit()\n",
    "\n",
    "print(mycursor.rowcount, \"baris berhasil diinsert/update.\")"
   ]
  }
 ],
 "metadata": {
  "kernelspec": {
   "display_name": "Python 3",
   "language": "python",
   "name": "python3"
  },
  "language_info": {
   "codemirror_mode": {
    "name": "ipython",
    "version": 3
   },
   "file_extension": ".py",
   "mimetype": "text/x-python",
   "name": "python",
   "nbconvert_exporter": "python",
   "pygments_lexer": "ipython3",
   "version": "3.11.2"
  },
  "orig_nbformat": 4
 },
 "nbformat": 4,
 "nbformat_minor": 2
}
